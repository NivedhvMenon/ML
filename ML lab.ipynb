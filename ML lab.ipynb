{
 "cells": [
  {
   "cell_type": "code",
   "execution_count": 2,
   "id": "459cb353",
   "metadata": {
    "scrolled": true
   },
   "outputs": [
    {
     "data": {
      "text/html": [
       "<div>\n",
       "<style scoped>\n",
       "    .dataframe tbody tr th:only-of-type {\n",
       "        vertical-align: middle;\n",
       "    }\n",
       "\n",
       "    .dataframe tbody tr th {\n",
       "        vertical-align: top;\n",
       "    }\n",
       "\n",
       "    .dataframe thead th {\n",
       "        text-align: right;\n",
       "    }\n",
       "</style>\n",
       "<table border=\"1\" class=\"dataframe\">\n",
       "  <thead>\n",
       "    <tr style=\"text-align: right;\">\n",
       "      <th></th>\n",
       "      <th>Customer</th>\n",
       "      <th>Candies (#)</th>\n",
       "      <th>Mangoes (Kg)</th>\n",
       "      <th>Milk Packets (#)</th>\n",
       "      <th>Payment (Rs)</th>\n",
       "      <th>Unnamed: 5</th>\n",
       "      <th>Unnamed: 6</th>\n",
       "      <th>Unnamed: 7</th>\n",
       "      <th>Unnamed: 8</th>\n",
       "      <th>Unnamed: 9</th>\n",
       "      <th>...</th>\n",
       "      <th>Unnamed: 12</th>\n",
       "      <th>Unnamed: 13</th>\n",
       "      <th>Unnamed: 14</th>\n",
       "      <th>Unnamed: 15</th>\n",
       "      <th>Unnamed: 16</th>\n",
       "      <th>Unnamed: 17</th>\n",
       "      <th>Unnamed: 18</th>\n",
       "      <th>Candy</th>\n",
       "      <th>Mango</th>\n",
       "      <th>Milk</th>\n",
       "    </tr>\n",
       "  </thead>\n",
       "  <tbody>\n",
       "    <tr>\n",
       "      <th>0</th>\n",
       "      <td>C_1</td>\n",
       "      <td>20</td>\n",
       "      <td>6</td>\n",
       "      <td>2</td>\n",
       "      <td>386</td>\n",
       "      <td>NaN</td>\n",
       "      <td>NaN</td>\n",
       "      <td>NaN</td>\n",
       "      <td>NaN</td>\n",
       "      <td>NaN</td>\n",
       "      <td>...</td>\n",
       "      <td>NaN</td>\n",
       "      <td>NaN</td>\n",
       "      <td>NaN</td>\n",
       "      <td>NaN</td>\n",
       "      <td>NaN</td>\n",
       "      <td>NaN</td>\n",
       "      <td>NaN</td>\n",
       "      <td>1.0</td>\n",
       "      <td>55.0</td>\n",
       "      <td>18.0</td>\n",
       "    </tr>\n",
       "    <tr>\n",
       "      <th>1</th>\n",
       "      <td>C_2</td>\n",
       "      <td>16</td>\n",
       "      <td>3</td>\n",
       "      <td>6</td>\n",
       "      <td>289</td>\n",
       "      <td>NaN</td>\n",
       "      <td>NaN</td>\n",
       "      <td>NaN</td>\n",
       "      <td>NaN</td>\n",
       "      <td>NaN</td>\n",
       "      <td>...</td>\n",
       "      <td>NaN</td>\n",
       "      <td>NaN</td>\n",
       "      <td>NaN</td>\n",
       "      <td>NaN</td>\n",
       "      <td>NaN</td>\n",
       "      <td>NaN</td>\n",
       "      <td>NaN</td>\n",
       "      <td>NaN</td>\n",
       "      <td>NaN</td>\n",
       "      <td>NaN</td>\n",
       "    </tr>\n",
       "    <tr>\n",
       "      <th>2</th>\n",
       "      <td>C_3</td>\n",
       "      <td>27</td>\n",
       "      <td>6</td>\n",
       "      <td>2</td>\n",
       "      <td>393</td>\n",
       "      <td>NaN</td>\n",
       "      <td>NaN</td>\n",
       "      <td>NaN</td>\n",
       "      <td>NaN</td>\n",
       "      <td>NaN</td>\n",
       "      <td>...</td>\n",
       "      <td>NaN</td>\n",
       "      <td>NaN</td>\n",
       "      <td>NaN</td>\n",
       "      <td>NaN</td>\n",
       "      <td>NaN</td>\n",
       "      <td>NaN</td>\n",
       "      <td>NaN</td>\n",
       "      <td>NaN</td>\n",
       "      <td>NaN</td>\n",
       "      <td>NaN</td>\n",
       "    </tr>\n",
       "    <tr>\n",
       "      <th>3</th>\n",
       "      <td>C_4</td>\n",
       "      <td>19</td>\n",
       "      <td>1</td>\n",
       "      <td>2</td>\n",
       "      <td>110</td>\n",
       "      <td>NaN</td>\n",
       "      <td>NaN</td>\n",
       "      <td>NaN</td>\n",
       "      <td>NaN</td>\n",
       "      <td>NaN</td>\n",
       "      <td>...</td>\n",
       "      <td>NaN</td>\n",
       "      <td>NaN</td>\n",
       "      <td>NaN</td>\n",
       "      <td>NaN</td>\n",
       "      <td>NaN</td>\n",
       "      <td>NaN</td>\n",
       "      <td>NaN</td>\n",
       "      <td>NaN</td>\n",
       "      <td>NaN</td>\n",
       "      <td>NaN</td>\n",
       "    </tr>\n",
       "    <tr>\n",
       "      <th>4</th>\n",
       "      <td>C_5</td>\n",
       "      <td>24</td>\n",
       "      <td>4</td>\n",
       "      <td>2</td>\n",
       "      <td>280</td>\n",
       "      <td>NaN</td>\n",
       "      <td>NaN</td>\n",
       "      <td>NaN</td>\n",
       "      <td>NaN</td>\n",
       "      <td>NaN</td>\n",
       "      <td>...</td>\n",
       "      <td>NaN</td>\n",
       "      <td>NaN</td>\n",
       "      <td>NaN</td>\n",
       "      <td>NaN</td>\n",
       "      <td>NaN</td>\n",
       "      <td>NaN</td>\n",
       "      <td>NaN</td>\n",
       "      <td>NaN</td>\n",
       "      <td>NaN</td>\n",
       "      <td>NaN</td>\n",
       "    </tr>\n",
       "    <tr>\n",
       "      <th>5</th>\n",
       "      <td>C_6</td>\n",
       "      <td>22</td>\n",
       "      <td>1</td>\n",
       "      <td>5</td>\n",
       "      <td>167</td>\n",
       "      <td>NaN</td>\n",
       "      <td>NaN</td>\n",
       "      <td>NaN</td>\n",
       "      <td>NaN</td>\n",
       "      <td>NaN</td>\n",
       "      <td>...</td>\n",
       "      <td>NaN</td>\n",
       "      <td>NaN</td>\n",
       "      <td>NaN</td>\n",
       "      <td>NaN</td>\n",
       "      <td>NaN</td>\n",
       "      <td>NaN</td>\n",
       "      <td>NaN</td>\n",
       "      <td>NaN</td>\n",
       "      <td>NaN</td>\n",
       "      <td>NaN</td>\n",
       "    </tr>\n",
       "    <tr>\n",
       "      <th>6</th>\n",
       "      <td>C_7</td>\n",
       "      <td>15</td>\n",
       "      <td>4</td>\n",
       "      <td>2</td>\n",
       "      <td>271</td>\n",
       "      <td>NaN</td>\n",
       "      <td>NaN</td>\n",
       "      <td>NaN</td>\n",
       "      <td>NaN</td>\n",
       "      <td>NaN</td>\n",
       "      <td>...</td>\n",
       "      <td>NaN</td>\n",
       "      <td>NaN</td>\n",
       "      <td>NaN</td>\n",
       "      <td>NaN</td>\n",
       "      <td>NaN</td>\n",
       "      <td>NaN</td>\n",
       "      <td>NaN</td>\n",
       "      <td>NaN</td>\n",
       "      <td>NaN</td>\n",
       "      <td>NaN</td>\n",
       "    </tr>\n",
       "    <tr>\n",
       "      <th>7</th>\n",
       "      <td>C_8</td>\n",
       "      <td>18</td>\n",
       "      <td>4</td>\n",
       "      <td>2</td>\n",
       "      <td>274</td>\n",
       "      <td>NaN</td>\n",
       "      <td>NaN</td>\n",
       "      <td>NaN</td>\n",
       "      <td>NaN</td>\n",
       "      <td>NaN</td>\n",
       "      <td>...</td>\n",
       "      <td>NaN</td>\n",
       "      <td>NaN</td>\n",
       "      <td>NaN</td>\n",
       "      <td>NaN</td>\n",
       "      <td>NaN</td>\n",
       "      <td>NaN</td>\n",
       "      <td>NaN</td>\n",
       "      <td>NaN</td>\n",
       "      <td>NaN</td>\n",
       "      <td>NaN</td>\n",
       "    </tr>\n",
       "    <tr>\n",
       "      <th>8</th>\n",
       "      <td>C_9</td>\n",
       "      <td>21</td>\n",
       "      <td>1</td>\n",
       "      <td>4</td>\n",
       "      <td>148</td>\n",
       "      <td>NaN</td>\n",
       "      <td>NaN</td>\n",
       "      <td>NaN</td>\n",
       "      <td>NaN</td>\n",
       "      <td>NaN</td>\n",
       "      <td>...</td>\n",
       "      <td>NaN</td>\n",
       "      <td>NaN</td>\n",
       "      <td>NaN</td>\n",
       "      <td>NaN</td>\n",
       "      <td>NaN</td>\n",
       "      <td>NaN</td>\n",
       "      <td>NaN</td>\n",
       "      <td>NaN</td>\n",
       "      <td>NaN</td>\n",
       "      <td>NaN</td>\n",
       "    </tr>\n",
       "    <tr>\n",
       "      <th>9</th>\n",
       "      <td>C_10</td>\n",
       "      <td>16</td>\n",
       "      <td>2</td>\n",
       "      <td>4</td>\n",
       "      <td>198</td>\n",
       "      <td>NaN</td>\n",
       "      <td>NaN</td>\n",
       "      <td>NaN</td>\n",
       "      <td>NaN</td>\n",
       "      <td>NaN</td>\n",
       "      <td>...</td>\n",
       "      <td>NaN</td>\n",
       "      <td>NaN</td>\n",
       "      <td>NaN</td>\n",
       "      <td>NaN</td>\n",
       "      <td>NaN</td>\n",
       "      <td>NaN</td>\n",
       "      <td>NaN</td>\n",
       "      <td>NaN</td>\n",
       "      <td>NaN</td>\n",
       "      <td>NaN</td>\n",
       "    </tr>\n",
       "  </tbody>\n",
       "</table>\n",
       "<p>10 rows × 22 columns</p>\n",
       "</div>"
      ],
      "text/plain": [
       "  Customer  Candies (#)  Mangoes (Kg)  Milk Packets (#)  Payment (Rs)  \\\n",
       "0      C_1           20             6                 2           386   \n",
       "1      C_2           16             3                 6           289   \n",
       "2      C_3           27             6                 2           393   \n",
       "3      C_4           19             1                 2           110   \n",
       "4      C_5           24             4                 2           280   \n",
       "5      C_6           22             1                 5           167   \n",
       "6      C_7           15             4                 2           271   \n",
       "7      C_8           18             4                 2           274   \n",
       "8      C_9           21             1                 4           148   \n",
       "9     C_10           16             2                 4           198   \n",
       "\n",
       "   Unnamed: 5  Unnamed: 6  Unnamed: 7  Unnamed: 8  Unnamed: 9  ...  \\\n",
       "0         NaN         NaN         NaN         NaN         NaN  ...   \n",
       "1         NaN         NaN         NaN         NaN         NaN  ...   \n",
       "2         NaN         NaN         NaN         NaN         NaN  ...   \n",
       "3         NaN         NaN         NaN         NaN         NaN  ...   \n",
       "4         NaN         NaN         NaN         NaN         NaN  ...   \n",
       "5         NaN         NaN         NaN         NaN         NaN  ...   \n",
       "6         NaN         NaN         NaN         NaN         NaN  ...   \n",
       "7         NaN         NaN         NaN         NaN         NaN  ...   \n",
       "8         NaN         NaN         NaN         NaN         NaN  ...   \n",
       "9         NaN         NaN         NaN         NaN         NaN  ...   \n",
       "\n",
       "   Unnamed: 12  Unnamed: 13  Unnamed: 14  Unnamed: 15  Unnamed: 16  \\\n",
       "0          NaN          NaN          NaN          NaN          NaN   \n",
       "1          NaN          NaN          NaN          NaN          NaN   \n",
       "2          NaN          NaN          NaN          NaN          NaN   \n",
       "3          NaN          NaN          NaN          NaN          NaN   \n",
       "4          NaN          NaN          NaN          NaN          NaN   \n",
       "5          NaN          NaN          NaN          NaN          NaN   \n",
       "6          NaN          NaN          NaN          NaN          NaN   \n",
       "7          NaN          NaN          NaN          NaN          NaN   \n",
       "8          NaN          NaN          NaN          NaN          NaN   \n",
       "9          NaN          NaN          NaN          NaN          NaN   \n",
       "\n",
       "   Unnamed: 17  Unnamed: 18  Candy  Mango  Milk  \n",
       "0          NaN          NaN    1.0   55.0  18.0  \n",
       "1          NaN          NaN    NaN    NaN   NaN  \n",
       "2          NaN          NaN    NaN    NaN   NaN  \n",
       "3          NaN          NaN    NaN    NaN   NaN  \n",
       "4          NaN          NaN    NaN    NaN   NaN  \n",
       "5          NaN          NaN    NaN    NaN   NaN  \n",
       "6          NaN          NaN    NaN    NaN   NaN  \n",
       "7          NaN          NaN    NaN    NaN   NaN  \n",
       "8          NaN          NaN    NaN    NaN   NaN  \n",
       "9          NaN          NaN    NaN    NaN   NaN  \n",
       "\n",
       "[10 rows x 22 columns]"
      ]
     },
     "execution_count": 2,
     "metadata": {},
     "output_type": "execute_result"
    }
   ],
   "source": [
    "import pandas as pd\n",
    "df = pd.read_excel('Lab Session1 Data.xlsx',sheet_name='Purchase data')\n",
    "df"
   ]
  },
  {
   "cell_type": "code",
   "execution_count": 3,
   "id": "f59c91b0",
   "metadata": {},
   "outputs": [
    {
     "data": {
      "text/html": [
       "<div>\n",
       "<style scoped>\n",
       "    .dataframe tbody tr th:only-of-type {\n",
       "        vertical-align: middle;\n",
       "    }\n",
       "\n",
       "    .dataframe tbody tr th {\n",
       "        vertical-align: top;\n",
       "    }\n",
       "\n",
       "    .dataframe thead th {\n",
       "        text-align: right;\n",
       "    }\n",
       "</style>\n",
       "<table border=\"1\" class=\"dataframe\">\n",
       "  <thead>\n",
       "    <tr style=\"text-align: right;\">\n",
       "      <th></th>\n",
       "      <th>Customer</th>\n",
       "      <th>Candies (#)</th>\n",
       "      <th>Mangoes (Kg)</th>\n",
       "      <th>Milk Packets (#)</th>\n",
       "      <th>Payment (Rs)</th>\n",
       "    </tr>\n",
       "  </thead>\n",
       "  <tbody>\n",
       "    <tr>\n",
       "      <th>0</th>\n",
       "      <td>C_1</td>\n",
       "      <td>20</td>\n",
       "      <td>6</td>\n",
       "      <td>2</td>\n",
       "      <td>386</td>\n",
       "    </tr>\n",
       "    <tr>\n",
       "      <th>1</th>\n",
       "      <td>C_2</td>\n",
       "      <td>16</td>\n",
       "      <td>3</td>\n",
       "      <td>6</td>\n",
       "      <td>289</td>\n",
       "    </tr>\n",
       "    <tr>\n",
       "      <th>2</th>\n",
       "      <td>C_3</td>\n",
       "      <td>27</td>\n",
       "      <td>6</td>\n",
       "      <td>2</td>\n",
       "      <td>393</td>\n",
       "    </tr>\n",
       "    <tr>\n",
       "      <th>3</th>\n",
       "      <td>C_4</td>\n",
       "      <td>19</td>\n",
       "      <td>1</td>\n",
       "      <td>2</td>\n",
       "      <td>110</td>\n",
       "    </tr>\n",
       "    <tr>\n",
       "      <th>4</th>\n",
       "      <td>C_5</td>\n",
       "      <td>24</td>\n",
       "      <td>4</td>\n",
       "      <td>2</td>\n",
       "      <td>280</td>\n",
       "    </tr>\n",
       "    <tr>\n",
       "      <th>5</th>\n",
       "      <td>C_6</td>\n",
       "      <td>22</td>\n",
       "      <td>1</td>\n",
       "      <td>5</td>\n",
       "      <td>167</td>\n",
       "    </tr>\n",
       "    <tr>\n",
       "      <th>6</th>\n",
       "      <td>C_7</td>\n",
       "      <td>15</td>\n",
       "      <td>4</td>\n",
       "      <td>2</td>\n",
       "      <td>271</td>\n",
       "    </tr>\n",
       "    <tr>\n",
       "      <th>7</th>\n",
       "      <td>C_8</td>\n",
       "      <td>18</td>\n",
       "      <td>4</td>\n",
       "      <td>2</td>\n",
       "      <td>274</td>\n",
       "    </tr>\n",
       "    <tr>\n",
       "      <th>8</th>\n",
       "      <td>C_9</td>\n",
       "      <td>21</td>\n",
       "      <td>1</td>\n",
       "      <td>4</td>\n",
       "      <td>148</td>\n",
       "    </tr>\n",
       "    <tr>\n",
       "      <th>9</th>\n",
       "      <td>C_10</td>\n",
       "      <td>16</td>\n",
       "      <td>2</td>\n",
       "      <td>4</td>\n",
       "      <td>198</td>\n",
       "    </tr>\n",
       "  </tbody>\n",
       "</table>\n",
       "</div>"
      ],
      "text/plain": [
       "  Customer  Candies (#)  Mangoes (Kg)  Milk Packets (#)  Payment (Rs)\n",
       "0      C_1           20             6                 2           386\n",
       "1      C_2           16             3                 6           289\n",
       "2      C_3           27             6                 2           393\n",
       "3      C_4           19             1                 2           110\n",
       "4      C_5           24             4                 2           280\n",
       "5      C_6           22             1                 5           167\n",
       "6      C_7           15             4                 2           271\n",
       "7      C_8           18             4                 2           274\n",
       "8      C_9           21             1                 4           148\n",
       "9     C_10           16             2                 4           198"
      ]
     },
     "execution_count": 3,
     "metadata": {},
     "output_type": "execute_result"
    }
   ],
   "source": [
    "df = df.dropna(axis=1)\n",
    "df"
   ]
  },
  {
   "cell_type": "code",
   "execution_count": 6,
   "id": "a4df0788",
   "metadata": {},
   "outputs": [
    {
     "data": {
      "text/plain": [
       "array([386, 289, 393, 110, 280, 167, 271, 274, 148, 198], dtype=int64)"
      ]
     },
     "execution_count": 6,
     "metadata": {},
     "output_type": "execute_result"
    }
   ],
   "source": [
    "A = df.iloc[:,1:4].to_numpy()\n",
    "C = df.iloc[:,4].to_numpy()\n",
    "A\n",
    "C\n"
   ]
  },
  {
   "cell_type": "code",
   "execution_count": 5,
   "id": "2f8825a8",
   "metadata": {},
   "outputs": [
    {
     "name": "stdout",
     "output_type": "stream",
     "text": [
      "The Dimension using shape is (10, 5)\n",
      "The Dimension using ndim is 2\n"
     ]
    }
   ],
   "source": [
    "dim1 = df.shape\n",
    "print(\"The Dimension using shape is\", dim1)\n",
    "dim2 = df.ndim\n",
    "print(\"The Dimension using ndim is\", dim2)"
   ]
  },
  {
   "cell_type": "code",
   "execution_count": 7,
   "id": "aa1d5007",
   "metadata": {},
   "outputs": [
    {
     "name": "stdout",
     "output_type": "stream",
     "text": [
      "Number of vectors exist in vector space is  10\n"
     ]
    }
   ],
   "source": [
    "print(\"Number of vectors exist in vector space is \",len(df))"
   ]
  },
  {
   "cell_type": "code",
   "execution_count": 9,
   "id": "12041a0c",
   "metadata": {},
   "outputs": [
    {
     "name": "stdout",
     "output_type": "stream",
     "text": [
      "Rank of matrix A is 3\n"
     ]
    }
   ],
   "source": [
    "import numpy as np\n",
    "rank = np.linalg.matrix_rank(A)\n",
    "print(\"Rank of matrix A is\",rank)"
   ]
  },
  {
   "cell_type": "code",
   "execution_count": 10,
   "id": "b0f0f994",
   "metadata": {},
   "outputs": [
    {
     "name": "stdout",
     "output_type": "stream",
     "text": [
      "Cost of each product:\n",
      "[ 1. 55. 18.]\n"
     ]
    }
   ],
   "source": [
    "A_inv = np.linalg.pinv(A)\n",
    "product_costs = np.matmul(A_inv, C)\n",
    "print(\"Cost of each product:\")\n",
    "print(product_costs)"
   ]
  },
  {
   "cell_type": "code",
   "execution_count": 11,
   "id": "b1cc29b1",
   "metadata": {},
   "outputs": [
    {
     "name": "stdout",
     "output_type": "stream",
     "text": [
      "Model vector X for predicting product costs:\n",
      "[ 1. 55. 18.]\n"
     ]
    }
   ],
   "source": [
    "#A2\n",
    "import pandas as pd\n",
    "df = pd.read_excel('Lab Session1 Data.xlsx',sheet_name='Purchase data')\n",
    "df = df.dropna(axis=1)\n",
    "A = df.iloc[:,1:4].to_numpy()\n",
    "C = df.iloc[:,4].to_numpy()\n",
    "A_inv = np.linalg.pinv(A)\n",
    "model_vector_X = np.matmul(A_inv, C)\n",
    "print(\"Model vector X for predicting product costs:\")\n",
    "print(model_vector_X)"
   ]
  },
  {
   "cell_type": "code",
   "execution_count": 13,
   "id": "ffaf1013",
   "metadata": {},
   "outputs": [
    {
     "name": "stdout",
     "output_type": "stream",
     "text": [
      "Model vector X for predicting product costs:\n",
      "  Customer  Candies (#)  Mangoes (Kg)  Milk Packets (#)  Payment (Rs)  \\\n",
      "0      C_1           20             6                 2           386   \n",
      "1      C_2           16             3                 6           289   \n",
      "2      C_3           27             6                 2           393   \n",
      "3      C_4           19             1                 2           110   \n",
      "4      C_5           24             4                 2           280   \n",
      "5      C_6           22             1                 5           167   \n",
      "6      C_7           15             4                 2           271   \n",
      "7      C_8           18             4                 2           274   \n",
      "8      C_9           21             1                 4           148   \n",
      "9     C_10           16             2                 4           198   \n",
      "\n",
      "  rich/poor  \n",
      "0      Rich  \n",
      "1      Rich  \n",
      "2      Rich  \n",
      "3      Poor  \n",
      "4      Rich  \n",
      "5      Poor  \n",
      "6      Rich  \n",
      "7      Rich  \n",
      "8      Poor  \n",
      "9      Poor  \n"
     ]
    }
   ],
   "source": [
    "#A3\n",
    "import pandas as pd\n",
    "import numpy as np\n",
    "df = pd.read_excel('Lab Session1 Data.xlsx',sheet_name='Purchase data')\n",
    "df = df.dropna(axis=1)\n",
    "A = df.iloc[:,1:4].to_numpy()\n",
    "C = df.iloc[:,4].to_numpy()\n",
    "A_inv = np.linalg.pinv(A)\n",
    "model_vector_X = np.matmul(A_inv, C)\n",
    "print(\"Model vector X for predicting product costs:\")\n",
    "df['rich/poor'] = np.where(df['Payment (Rs)'] > 200,'Rich','Poor')\n",
    "print(df)"
   ]
  },
  {
   "cell_type": "code",
   "execution_count": 14,
   "id": "e6898c7d",
   "metadata": {},
   "outputs": [
    {
     "name": "stdout",
     "output_type": "stream",
     "text": [
      "             Date Month  Day    Price     Open     High      Low   Volume  \\\n",
      "0    Jun 29, 2021   Jun  Tue  2081.85  2092.00  2126.90  2065.05    1.67M   \n",
      "1    Jun 28, 2021   Jun  Mon  2077.75  2084.00  2112.45  2068.40  707.73K   \n",
      "2    Jun 25, 2021   Jun  Fri  2068.85  2084.35  2088.50  2053.10  475.82K   \n",
      "3    Jun 24, 2021   Jun  Thu  2072.95  2098.00  2098.00  2066.00  541.51K   \n",
      "4    Jun 23, 2021   Jun  Wed  2078.25  2102.00  2111.40  2072.00  809.62K   \n",
      "..            ...   ...  ...      ...      ...      ...      ...      ...   \n",
      "244  Jul 07, 2020   Jul  Tue  1397.40  1410.00  1411.00  1390.05  480.21K   \n",
      "245  Jul 06, 2020   Jul  Mon  1400.75  1405.50  1415.50  1394.00  614.93K   \n",
      "246  Jul 03, 2020   Jul  Fri  1405.10  1415.00  1425.00  1398.00  599.49K   \n",
      "247  Jul 02, 2020   Jul  Thu  1412.35  1440.00  1467.80  1395.30    2.16M   \n",
      "248  Jul 01, 2020   Jul  Wed  1363.05  1363.65  1377.00  1356.00  383.00K   \n",
      "\n",
      "       Chg%  Unnamed: 9  Unnamed: 10  \n",
      "0    0.0020         NaN          NaN  \n",
      "1    0.0043         NaN          NaN  \n",
      "2   -0.0020         NaN          NaN  \n",
      "3   -0.0026         NaN          NaN  \n",
      "4   -0.0023         NaN          NaN  \n",
      "..      ...         ...          ...  \n",
      "244 -0.0024         NaN          NaN  \n",
      "245 -0.0031         NaN          NaN  \n",
      "246 -0.0051         NaN          NaN  \n",
      "247  0.0362         NaN          NaN  \n",
      "248  0.0032         NaN          NaN  \n",
      "\n",
      "[249 rows x 11 columns]\n"
     ]
    }
   ],
   "source": [
    "#A4\n",
    "import pandas as pd\n",
    "import numpy as np\n",
    "df = pd.read_excel(\"Lab Session1 Data.xlsx\", sheet_name =\"IRCTC Stock Price\")\n",
    "print (df)"
   ]
  },
  {
   "cell_type": "code",
   "execution_count": 15,
   "id": "bc1f74f0",
   "metadata": {},
   "outputs": [
    {
     "name": "stdout",
     "output_type": "stream",
     "text": [
      "Mean: 1560.663453815261\n",
      "Variance: 58732.365352539186\n"
     ]
    }
   ],
   "source": [
    "import pandas as pd\n",
    "import statistics\n",
    "\n",
    "# Assuming your dataset is stored in a pandas DataFrame called 'df'\n",
    "\n",
    "# Specify the column name for which you want to calculate the mean and variance\n",
    "column_name = 'Price'\n",
    "\n",
    "# Extract the column data\n",
    "column_data = df[column_name]\n",
    "\n",
    "# Calculate the mean\n",
    "mean = statistics.mean(column_data)\n",
    "print(\"Mean:\", mean)\n",
    "\n",
    "# Calculate the variance\n",
    "variance = statistics.variance(column_data)\n",
    "print(\"Variance:\", variance)"
   ]
  },
  {
   "cell_type": "code",
   "execution_count": 16,
   "id": "109da0af",
   "metadata": {},
   "outputs": [
    {
     "data": {
      "text/plain": [
       "1550.706"
      ]
     },
     "execution_count": 16,
     "metadata": {},
     "output_type": "execute_result"
    }
   ],
   "source": [
    "import pandas as pd\n",
    "import numpy as np\n",
    "df = pd.read_excel(\"Lab Session1 Data.xlsx\", sheet_name =\"IRCTC Stock Price\")\n",
    "df_wednesday = df[df['Day'] == 'Wed']\n",
    "\n",
    "# Calculate the sample mean for all Wednesdays\n",
    "mean_wednesday = statistics.mean(df_wednesday['Price'])\n",
    "\n",
    "mean_wednesday"
   ]
  },
  {
   "cell_type": "code",
   "execution_count": 17,
   "id": "fc836437",
   "metadata": {},
   "outputs": [
    {
     "data": {
      "text/plain": [
       "1698.9526315789474"
      ]
     },
     "execution_count": 17,
     "metadata": {},
     "output_type": "execute_result"
    }
   ],
   "source": [
    "df_april = df[df['Month'] == 'Apr']\n",
    "\n",
    "# Calculate the sample mean for the month of April\n",
    "mean_april = statistics.mean(df_april['Price']) if not df_april.empty else \"No data for April\"\n",
    "\n",
    "mean_april"
   ]
  },
  {
   "cell_type": "code",
   "execution_count": 18,
   "id": "a28518f5",
   "metadata": {},
   "outputs": [
    {
     "data": {
      "text/plain": [
       "0.4979919678714859"
      ]
     },
     "execution_count": 18,
     "metadata": {},
     "output_type": "execute_result"
    }
   ],
   "source": [
    "total_days = len(df)\n",
    "loss_days = len(df[df['Chg%'] < 0])\n",
    "\n",
    "probability_loss = loss_days / total_days\n",
    "\n",
    "probability_loss"
   ]
  },
  {
   "cell_type": "code",
   "execution_count": 19,
   "id": "6e2359bd",
   "metadata": {},
   "outputs": [
    {
     "data": {
      "text/plain": [
       "0.08433734939759036"
      ]
     },
     "execution_count": 19,
     "metadata": {},
     "output_type": "execute_result"
    }
   ],
   "source": [
    "profit_wed = df['Chg%'].loc[(df['Day'] == 'Wed') & (df['Chg%'] >0)].count()\n",
    "profit_wed/total_days"
   ]
  },
  {
   "cell_type": "code",
   "execution_count": 41,
   "id": "92c172ed",
   "metadata": {},
   "outputs": [
    {
     "name": "stdout",
     "output_type": "stream",
     "text": [
      "Conditional Probability of making profit given Wednesday: 0.00\n"
     ]
    }
   ],
   "source": [
    "import pandas as pd\n",
    "\n",
    "# Load the Excel file into a DataFrame\n",
    "df = pd.read_excel('Lab Session1 Data.xlsx', sheet_name='IRCTC Stock Price')\n",
    "\n",
    "# Filter the data for Wednesdays\n",
    "wednesday_data = df[df['Day'] == 'Wednesday']\n",
    "\n",
    "# Calculate the total number of Wednesdays\n",
    "total_wednesdays = len(wednesday_data)\n",
    "\n",
    "# Calculate the total number of days in the dataset\n",
    "total_days = len(df)\n",
    "\n",
    "# Calculate the number of profitable Wednesdays\n",
    "profitable_wednesdays = len(wednesday_data[wednesday_data['Chg%'] > 0])\n",
    "\n",
    "# Calculate the probability that any given day is a Wednesday\n",
    "probability_wednesday = total_wednesdays / total_days\n",
    "\n",
    "# Calculate the joint probability that a day is both a Wednesday and a profitable day\n",
    "probability_profit_and_wednesday = profitable_wednesdays / total_days\n",
    "\n",
    "# Calculate the conditional probability of making a profit given that today is Wednesday\n",
    "conditional_probability_profit_given_wednesday = probability_profit_and_wednesday / probability_wednesday if probability_wednesday != 0 else 0\n",
    "\n",
    "print(f\"Conditional Probability of making profit given Wednesday: {conditional_probability_profit_given_wednesday:.2f}\")\n"
   ]
  },
  {
   "cell_type": "code",
   "execution_count": 35,
   "id": "8fc6943a",
   "metadata": {},
   "outputs": [
    {
     "data": {
      "image/png": "[encoded data removed]",
      "text/plain": [
       "<Figure size 432x288 with 1 Axes>"
      ]
     },
     "metadata": {
      "needs_background": "light"
     },
     "output_type": "display_data"
    }
   ],
   "source": [
    "import pandas as pd\n",
    "import matplotlib.pyplot as plt\n",
    "\n",
    "# Load the Excel file into a DataFrame\n",
    "df = pd.read_excel('Lab Session1 Data.xlsx', sheet_name='IRCTC Stock Price')\n",
    "\n",
    "# Create a scatter plot of Chg% data against the day of the week\n",
    "plt.scatter(df['Day'], df['Chg%'])\n",
    "plt.xlabel('Day of the Week')\n",
    "plt.ylabel('Chg%')\n",
    "plt.title('Scatter Plot of Chg% vs. Day of the Week')\n",
    "plt.show()\n"
   ]
  },
  {
   "cell_type": "code",
   "execution_count": null,
   "id": "78046dec",
   "metadata": {},
   "outputs": [],
   "source": []
  },
  {
   "cell_type": "code",
   "execution_count": null,
   "id": "72e1fa6c",
   "metadata": {},
   "outputs": [],
   "source": []
  }
 ],
 "metadata": {
  "kernelspec": {
   "display_name": "Python 3",
   "language": "python",
   "name": "python3"
  },
  "language_info": {
   "codemirror_mode": {
    "name": "ipython",
    "version": 3
   },
   "file_extension": ".py",
   "mimetype": "text/x-python",
   "name": "python",
   "nbconvert_exporter": "python",
   "pygments_lexer": "ipython3",
   "version": "3.8.8"
  }
 },
 "nbformat": 4,
 "nbformat_minor": 5
}
